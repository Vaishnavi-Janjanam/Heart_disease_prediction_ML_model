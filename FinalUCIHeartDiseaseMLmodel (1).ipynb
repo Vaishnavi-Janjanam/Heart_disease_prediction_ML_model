{
  "cells": [
    {
      "cell_type": "code",
      "execution_count": 13,
      "metadata": {
        "colab": {
          "base_uri": "https://localhost:8080/",
          "height": 73
        },
        "id": "eKPxKezRtiS-",
        "outputId": "083fb206-47e8-4036-dcae-e2d0ba5f1bc3"
      },
      "outputs": [],
      "source": [
        "# from google.colab import files\n",
        "# uploaded = files.upload()  # For dataset upload"
      ]
    },
    {
      "cell_type": "code",
      "execution_count": null,
      "metadata": {
        "colab": {
          "base_uri": "https://localhost:8080/"
        },
        "id": "kB9wOADitvWS",
        "outputId": "8aa9a583-9e57-4251-c0c1-0f6be6215a19"
      },
      "outputs": [],
      "source": [
        "import pandas as pd\n",
        "from sklearn.preprocessing import StandardScaler\n",
        "\n",
        "# Load the dataset\n",
        " # Use your actual file path\n",
        "df = pd.read_csv(\"heart_disease_uci.csv\")\n",
        "\n",
        "# Handling Missing Values\n",
        "df['trestbps'].fillna(df['trestbps'].median(), inplace=True)\n",
        "df['chol'].fillna(df['chol'].median(), inplace=True)\n",
        "df['thalch'].fillna(df['thalch'].median(), inplace=True)\n",
        "df['oldpeak'].fillna(df['oldpeak'].median(), inplace=True)\n",
        "df['slope'].fillna(df['slope'].mode()[0], inplace=True)\n",
        "df['thal'].fillna(df['thal'].mode()[0], inplace=True)\n",
        "\n",
        "# Dropping 'ca' due to excessive missing values\n",
        "df.drop(columns=['ca'], inplace=True)\n",
        "\n",
        "# Encoding Binary Categorical Features\n",
        "df['sex'] = df['sex'].map({'Male': 1, 'Female': 0})\n",
        "df['fbs'] = df['fbs'].map({True: 1, False: 0})\n",
        "df['exang'] = df['exang'].map({True: 1, False: 0})\n",
        "\n",
        "# One-Hot Encoding for Multi-Class Categorical Features\n",
        "df = pd.get_dummies(df, columns=['cp', 'restecg', 'slope', 'thal'], drop_first=True)\n",
        "\n",
        "# Feature Scaling (Standardization)\n",
        "scaler = StandardScaler()\n",
        "numeric_features = ['age', 'trestbps', 'chol', 'thalch', 'oldpeak']\n",
        "df[numeric_features] = scaler.fit_transform(df[numeric_features])\n",
        "\n",
        "# Converting 'num' to Binary Classification (Heart Disease: 1, No Disease: 0)\n",
        "df['num'] = df['num'].apply(lambda x: 1 if x > 0 else 0)\n",
        "\n",
        "# Save the preprocessed dataset\n",
        "df.to_csv(\"heart_disease_uci_processed.csv\", index=False)\n",
        "\n",
        "print(\"Preprocessing Complete! Processed dataset saved as 'heart_disease_uci_processed.csv'.\")\n"
      ]
    },
    {
      "cell_type": "code",
      "execution_count": null,
      "metadata": {
        "colab": {
          "base_uri": "https://localhost:8080/"
        },
        "id": "NgcJiqxHS2Z7",
        "outputId": "c8ae794f-3c1b-4308-8c01-cafe823931fb"
      },
      "outputs": [],
      "source": [
        "from sklearn.model_selection import train_test_split, cross_val_score, GridSearchCV\n",
        "from sklearn.pipeline import Pipeline\n",
        "from sklearn.metrics import classification_report\n",
        "from sklearn.metrics import accuracy_score, precision_score, recall_score, f1_score, confusion_matrix\n",
        "\n",
        "from sklearn.experimental import enable_iterative_imputer  # Just enabling it\n",
        "from sklearn.impute import IterativeImputer  # Import the actual imputer\n",
        "from sklearn.preprocessing import StandardScaler, MinMaxScaler, LabelEncoder\n",
        "from sklearn.impute import SimpleImputer\n",
        "import pandas as pd\n",
        "import matplotlib.pyplot as plt\n",
        "import seaborn as sns\n",
        "from sklearn.neighbors import KNeighborsClassifier\n",
        "from sklearn.tree import DecisionTreeClassifier\n",
        "from sklearn.naive_bayes import GaussianNB\n",
        "from sklearn.ensemble import RandomForestClassifier\n",
        "\n",
        "imputer = IterativeImputer(max_iter=10, random_state=42)\n",
        "df[['trestbps', 'chol', 'oldpeak', 'thalch']] = imputer.fit_transform(df[['trestbps', 'chol', 'oldpeak', 'thalch']])\n",
        "\n",
        "# Identifying Categorical Variables\n",
        "categorical_cols = df.select_dtypes(include=['object']).columns.tolist()\n",
        "print(\"Categorical Columns:\", categorical_cols)\n",
        "\n",
        "# Encoding Categorical Variables\n",
        "label_encoder = LabelEncoder()\n",
        "for col in categorical_cols:\n",
        "    df[col] = label_encoder.fit_transform(df[col])  # Convert categories to numbers\n",
        "\n",
        "# Splitting Data\n",
        "X = df.drop('num', axis=1)\n",
        "y = df['num']\n",
        "\n",
        "X_train, X_test, y_train, y_test = train_test_split(X, y, test_size=0.1, random_state=42)\n",
        "\n",
        "# Ensure all features are numeric before training\n",
        "print(X_train.dtypes)"
      ]
    },
    {
      "cell_type": "code",
      "execution_count": 16,
      "metadata": {
        "colab": {
          "base_uri": "https://localhost:8080/"
        },
        "id": "4yW9h-i-TpDJ",
        "outputId": "0a04af08-5146-4891-90fe-3b0c57751198"
      },
      "outputs": [
        {
          "name": "stdout",
          "output_type": "stream",
          "text": [
            "0\n"
          ]
        }
      ],
      "source": [
        "\n",
        "\n",
        "# Handling Missing Values with Imputation\n",
        "imputer = SimpleImputer(strategy=\"most_frequent\")  # You can change strategy to \"mean\" or \"median\" for numerical data\n",
        "X_train = pd.DataFrame(imputer.fit_transform(X_train), columns=X_train.columns)\n",
        "X_test = pd.DataFrame(imputer.transform(X_test), columns=X_test.columns)\n",
        "\n",
        "# Verify that there are no missing values left\n",
        "print(X_train.isnull().sum().sum())  # Should print 0\n"
      ]
    },
    {
      "cell_type": "code",
      "execution_count": 17,
      "metadata": {
        "colab": {
          "base_uri": "https://localhost:8080/",
          "height": 1000
        },
        "id": "Q0JqaAbPb3Uc",
        "outputId": "fa89f6df-089a-43c9-caa0-5edcee1d1a98"
      },
      "outputs": [],
      "source": [
        "\n",
        "# Check available columns\n",
        "print(\"Available columns:\", df.columns)\n",
        "\n",
        "# Define numeric columns, ensuring they exist\n",
        "numeric_cols = ['age', 'trestbps', 'chol', 'thalch', 'oldpeak', 'ca']\n",
        "\n",
        "# Keep only existing numeric columns\n",
        "numeric_cols = [col for col in numeric_cols if col in df.columns]\n",
        "\n",
        "# Plot histograms for several numeric variables\n",
        "plt.figure(figsize=(16, 8))\n",
        "for i, col in enumerate(numeric_cols, 1):\n",
        "    plt.subplot(2, 3, i)\n",
        "    sns.histplot(df[col], kde=True, color='skyblue')\n",
        "    plt.title(f'Distribution of {col}')\n",
        "plt.tight_layout()\n",
        "plt.show()\n",
        "\n",
        "# Boxplot for outlier detection\n",
        "plt.figure(figsize=(16, 8))\n",
        "for i, col in enumerate(numeric_cols, 1):\n",
        "    plt.subplot(2, 3, i)\n",
        "    sns.boxplot(x=df[col], color='lightgreen')\n",
        "    plt.title(f'Box Plot of {col}')\n",
        "plt.tight_layout()\n",
        "plt.show()\n",
        "\n",
        "# Countplot for categorical features\n",
        "plt.figure(figsize=(14, 5))\n",
        "\n",
        "if 'sex' in df.columns:\n",
        "    plt.subplot(1, 2, 1)\n",
        "    sns.countplot(x='sex', data=df, palette='pastel')\n",
        "    plt.title('Count Plot of Sex')\n",
        "\n",
        "if 'cp' in df.columns:\n",
        "    plt.subplot(1, 2, 2)\n",
        "    sns.countplot(x='cp', data=df, palette='muted')\n",
        "    plt.title('Count Plot of Chest Pain Type (cp)')\n",
        "\n",
        "plt.tight_layout()\n",
        "plt.show()\n",
        "\n",
        "# Correlation heatmap\n",
        "numeric_df = df[numeric_cols]\n",
        "if numeric_df.shape[1] >= 4:\n",
        "    plt.figure(figsize=(8, 6))\n",
        "    corr = numeric_df.corr()\n",
        "    sns.heatmap(corr, annot=True, cmap='coolwarm', fmt='.2f')\n",
        "    plt.title('Correlation Heatmap for Numeric Features')\n",
        "    plt.tight_layout()\n",
        "    plt.show()\n",
        "\n",
        "# Pair plot to inspect relationships among numeric features\n",
        "if 'num' in df.columns:\n",
        "    sns.pairplot(df[numeric_cols + ['num']], hue='num', palette='Set2')\n",
        "    plt.show()\n",
        "else:\n",
        "    print(\"Skipping pair plot: 'target' column not found.\")\n"
      ]
    },
    {
      "cell_type": "code",
      "execution_count": 18,
      "metadata": {
        "colab": {
          "base_uri": "https://localhost:8080/",
          "height": 1000
        },
        "id": "Kh90QJFATvOL",
        "outputId": "24ea4a69-b2c6-48f6-f9b1-a1454929e904"
      },
      "outputs": [
        {
          "name": "stdout",
          "output_type": "stream",
          "text": [
            "Model: Decision Tree Classifier\n",
            "Test Accuracy: 0.7935\n",
            "\n",
            "Precision: 0.8519\n",
            "\n",
            "Recall: 0.8070\n",
            "\n",
            "F1-Score: 0.8288\n",
            "\n"
          ]
        },
        {
          "data": {
            "image/png": "[encoded data removed]",
            "text/plain": [
              "<Figure size 600x400 with 2 Axes>"
            ]
          },
          "metadata": {},
          "output_type": "display_data"
        },
        {
          "name": "stdout",
          "output_type": "stream",
          "text": [
            "Model: Naïve Bayes Classifier\n",
            "Test Accuracy: 0.7935\n",
            "\n",
            "Precision: 0.8393\n",
            "\n",
            "Recall: 0.8246\n",
            "\n",
            "F1-Score: 0.8319\n",
            "\n"
          ]
        },
        {
          "data": {
            "image/png": "[encoded data removed]",
            "text/plain": [
              "<Figure size 600x400 with 2 Axes>"
            ]
          },
          "metadata": {},
          "output_type": "display_data"
        },
        {
          "name": "stdout",
          "output_type": "stream",
          "text": [
            "Model: Random Forest Classifier\n",
            "Test Accuracy: 0.8478\n",
            "\n",
            "Precision: 0.8644\n",
            "\n",
            "Recall: 0.8947\n",
            "\n",
            "F1-Score: 0.8793\n",
            "\n"
          ]
        },
        {
          "data": {
            "image/png": "[encoded data removed]",
            "text/plain": [
              "<Figure size 600x400 with 2 Axes>"
            ]
          },
          "metadata": {},
          "output_type": "display_data"
        }
      ],
      "source": [
        "\n",
        "# Define models\n",
        "models = [\n",
        "    ('Decision Tree Classifier', DecisionTreeClassifier(random_state=42)),\n",
        "    ('Naïve Bayes Classifier', GaussianNB()),\n",
        "    ('Random Forest Classifier', RandomForestClassifier(random_state=42))\n",
        "]\n",
        "\n",
        "best_model = None\n",
        "best_accuracy = 0.0\n",
        "accuracies=[]\n",
        "precisions=[]\n",
        "Recalls=[]\n",
        "F1_scores=[]\n",
        "\n",
        "# Iterate over models\n",
        "for name, model in models:\n",
        "    pipeline = Pipeline([('model', model)])\n",
        "\n",
        "    pipeline.fit(X_train, y_train)\n",
        "    y_pred = pipeline.predict(X_test)\n",
        "\n",
        "    accuracy = accuracy_score(y_test, y_pred)\n",
        "    precision = precision_score(y_test, y_pred)\n",
        "    recall = recall_score(y_test, y_pred)\n",
        "    f1 = f1_score(y_test, y_pred)\n",
        "\n",
        "    print(f\"Model: {name}\")\n",
        "    print(f\"Test Accuracy: {accuracy:.4f}\\n\")\n",
        "    print(f\"Precision: {precision:.4f}\\n\")\n",
        "    print(f\"Recall: {recall:.4f}\\n\")\n",
        "    print(f\"F1-Score: {f1:.4f}\\n\")\n",
        "    # Confusion Matrix visualization\n",
        "    cm = confusion_matrix(y_test, y_pred)\n",
        "\n",
        "    plt.figure(figsize=(6, 4))\n",
        "    sns.heatmap(cm, annot=True, fmt='d', cmap='Blues')\n",
        "    plt.title('Confusion Matrix')\n",
        "    plt.xlabel('Predicted')\n",
        "    plt.ylabel('Actual')\n",
        "    plt.tight_layout()\n",
        "    plt.show()\n",
        "    accuracies.append(accuracy)\n",
        "    precisions.append(precision)\n",
        "    Recalls.append(recall)\n",
        "    F1_scores.append(f1)\n",
        "    if accuracy > best_accuracy:\n",
        "        best_accuracy = accuracy\n",
        "        best_model = pipeline\n",
        "\n"
      ]
    },
    {
      "cell_type": "code",
      "execution_count": null,
      "metadata": {
        "colab": {
          "base_uri": "https://localhost:8080/",
          "height": 629
        },
        "id": "tAYYnqAZUczM",
        "outputId": "9e321695-06d0-44eb-a610-cb865dcae39b"
      },
      "outputs": [],
      "source": [
        "import matplotlib.pyplot as plt\n",
        "import seaborn as sns\n",
        "import plotly.express as px\n",
        "# Visualization of Model Accuracy\n",
        "\n",
        "model_names = ['Decision Tree', 'Naïve Bayes', 'Random forest']\n",
        "\n",
        "plt.figure(figsize=(8, 5))\n",
        "sns.barplot(x=model_names, y=accuracies, palette='viridis')\n",
        "\n",
        "plt.xlabel(\"Machine Learning Models\")\n",
        "plt.ylabel(\"Accuracy Score\")\n",
        "plt.ylim(0, 1)\n",
        "plt.title(\"Model Accuracy Comparison\")\n",
        "plt.show()"
      ]
    },
    {
      "cell_type": "code",
      "execution_count": null,
      "metadata": {
        "colab": {
          "base_uri": "https://localhost:8080/",
          "height": 629
        },
        "id": "9Ewh9ev1U60m",
        "outputId": "d4e1e00b-6287-449c-a8fc-053e7cfde714"
      },
      "outputs": [],
      "source": [
        "import matplotlib.pyplot as plt\n",
        "import seaborn as sns\n",
        "import plotly.express as px\n",
        "# Visualization of Model Precision\n",
        "\n",
        "model_names = ['Decision Tree', 'Naïve Bayes', 'Random Forest']\n",
        "\n",
        "plt.figure(figsize=(8, 5))\n",
        "sns.barplot(x=model_names, y=precisions, palette='viridis')\n",
        "\n",
        "plt.xlabel(\"Machine Learning Models\")\n",
        "plt.ylabel(\"Precision\")\n",
        "plt.ylim(0, 1)\n",
        "plt.title(\"Model Precision Comparison\")\n",
        "plt.show()"
      ]
    },
    {
      "cell_type": "code",
      "execution_count": null,
      "metadata": {},
      "outputs": [],
      "source": [
        "import matplotlib.pyplot as plt\n",
        "import seaborn as sns\n",
        "import plotly.express as px\n",
        "# Visualization of Model Recall accuracy\n",
        "\n",
        "model_names = ['Decision Tree', 'Naïve Bayes', 'Random Forest']\n",
        "\n",
        "plt.figure(figsize=(8, 5))\n",
        "sns.barplot(x=model_names, y=Recalls, palette='viridis')\n",
        "\n",
        "plt.xlabel(\"Machine Learning Models\")\n",
        "plt.ylabel(\"Recall\")\n",
        "plt.ylim(0, 1)\n",
        "plt.title(\"Model Recall Comparison\")\n",
        "plt.show()"
      ]
    },
    {
      "cell_type": "code",
      "execution_count": null,
      "metadata": {},
      "outputs": [],
      "source": [
        "import matplotlib.pyplot as plt\n",
        "import seaborn as sns\n",
        "import plotly.express as px\n",
        "# Visualization of Model F1-score\n",
        "\n",
        "model_names = ['Decision Tree', 'Naïve Bayes', 'Random Forest']\n",
        "\n",
        "plt.figure(figsize=(8, 5))\n",
        "sns.barplot(x=model_names, y=F1_scores, palette='viridis')\n",
        "\n",
        "plt.xlabel(\"Machine Learning Models\")\n",
        "plt.ylabel(\"F1-Score\")\n",
        "plt.ylim(0, 1)\n",
        "plt.title(\"Model F1-score3 Comparison\")\n",
        "plt.show()"
      ]
    },
    {
      "cell_type": "code",
      "execution_count": 23,
      "metadata": {
        "colab": {
          "base_uri": "https://localhost:8080/"
        },
        "id": "fJAJq0NAk-VH",
        "outputId": "732e812b-f936-40c5-f95e-eac8c9d0a243"
      },
      "outputs": [
        {
          "name": "stdout",
          "output_type": "stream",
          "text": [
            "Best Model: Pipeline(steps=[('model', RandomForestClassifier(random_state=42))]) Accuracy: 0.8478260869565217\n"
          ]
        }
      ],
      "source": [
        "print(f\"Best Model: {best_model} Accuracy: {best_accuracy}\")"
      ]
    }
  ],
  "metadata": {
    "colab": {
      "provenance": []
    },
    "kernelspec": {
      "display_name": "Python 3",
      "name": "python3"
    },
    "language_info": {
      "codemirror_mode": {
        "name": "ipython",
        "version": 3
      },
      "file_extension": ".py",
      "mimetype": "text/x-python",
      "name": "python",
      "nbconvert_exporter": "python",
      "pygments_lexer": "ipython3",
      "version": "3.11.9"
    }
  },
  "nbformat": 4,
  "nbformat_minor": 0
}
